{
 "cells": [
  {
   "cell_type": "code",
   "execution_count": 14,
   "metadata": {},
   "outputs": [
    {
     "name": "stdout",
     "output_type": "stream",
     "text": [
      "Requirement already satisfied: requests in c:\\users\\nebiyu elias\\documents\\projects\\personal\\amazon-scraping\\.venv\\lib\\site-packages (2.31.0)\n",
      "Requirement already satisfied: beautifulsoup4 in c:\\users\\nebiyu elias\\documents\\projects\\personal\\amazon-scraping\\.venv\\lib\\site-packages (4.12.3)\n",
      "Requirement already satisfied: charset-normalizer<4,>=2 in c:\\users\\nebiyu elias\\documents\\projects\\personal\\amazon-scraping\\.venv\\lib\\site-packages (from requests) (3.3.2)\n",
      "Requirement already satisfied: idna<4,>=2.5 in c:\\users\\nebiyu elias\\documents\\projects\\personal\\amazon-scraping\\.venv\\lib\\site-packages (from requests) (3.7)\n",
      "Requirement already satisfied: urllib3<3,>=1.21.1 in c:\\users\\nebiyu elias\\documents\\projects\\personal\\amazon-scraping\\.venv\\lib\\site-packages (from requests) (2.2.1)\n",
      "Requirement already satisfied: certifi>=2017.4.17 in c:\\users\\nebiyu elias\\documents\\projects\\personal\\amazon-scraping\\.venv\\lib\\site-packages (from requests) (2024.2.2)\n",
      "Requirement already satisfied: soupsieve>1.2 in c:\\users\\nebiyu elias\\documents\\projects\\personal\\amazon-scraping\\.venv\\lib\\site-packages (from beautifulsoup4) (2.5)\n"
     ]
    }
   ],
   "source": [
    "!pip install requests beautifulsoup4"
   ]
  },
  {
   "cell_type": "code",
   "execution_count": 18,
   "metadata": {},
   "outputs": [
    {
     "name": "stdout",
     "output_type": "stream",
     "text": [
      "Product Title: Title not found\n",
      "Product Price: Price not found\n",
      "Product Image URL: Image not found\n"
     ]
    }
   ],
   "source": [
    "import requests\n",
    "from bs4 import BeautifulSoup\n",
    "\n",
    "\n",
    "# Define the URL of the Amazon product page\n",
    "url = \"https://www.amazon.com/dp/B006K2ZZ7K\"\n",
    "\n",
    "headers = {\n",
    "    'User-Agent': 'Mozilla/5.0 (Windows NT 10.0; Win64; x64) AppleWebKit/537.36 (KHTML, like Gecko) Chrome/116.0.0.0 Safari/537.36'\n",
    "}\n",
    "\n",
    "response = requests.get(url, headers=headers)\n",
    "\n",
    "# Write the HTML content to an HTML file\n",
    "with open(\"amazon_product_page.html\", \"w\", encoding=\"utf-8\") as f:\n",
    "    f.write(response.text)\n",
    "\n",
    "# Parse the HTML content of the page\n",
    "soup = BeautifulSoup(response.content, 'html.parser')\n",
    "\n",
    "# Extract product title\n",
    "title_element = soup.find(\"span\", id=\"productTitle\")\n",
    "if title_element:\n",
    "    product_title = title_element.get_text(strip=True)\n",
    "else:\n",
    "    product_title = \"Title not found\"\n",
    "\n",
    "# Extract product price\n",
    "price_element = soup.find(\"span\", id=\"priceblock_ourprice\")\n",
    "if price_element:\n",
    "    product_price = price_element.get_text(strip=True)\n",
    "else:\n",
    "    product_price = \"Price not found\"\n",
    "\n",
    "# Extract product image URL\n",
    "image_element = soup.find(\"img\", {\"id\": \"landingImage\"})\n",
    "if image_element:\n",
    "    product_image_url = image_element.get(\"src\")\n",
    "else:\n",
    "    product_image_url = \"Image not found\"\n",
    "\n",
    "# Print the scraped product details\n",
    "print(\"Product Title:\", product_title)\n",
    "print(\"Product Price:\", product_price)\n",
    "print(\"Product Image URL:\", product_image_url)"
   ]
  }
 ],
 "metadata": {
  "kernelspec": {
   "display_name": ".venv",
   "language": "python",
   "name": "python3"
  },
  "language_info": {
   "codemirror_mode": {
    "name": "ipython",
    "version": 3
   },
   "file_extension": ".py",
   "mimetype": "text/x-python",
   "name": "python",
   "nbconvert_exporter": "python",
   "pygments_lexer": "ipython3",
   "version": "3.11.9"
  }
 },
 "nbformat": 4,
 "nbformat_minor": 2
}
